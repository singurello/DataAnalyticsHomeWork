{
 "cells": [
  {
   "cell_type": "code",
   "execution_count": 3,
   "metadata": {},
   "outputs": [
    {
     "data": {
      "text/html": [
       "<div>\n",
       "<style scoped>\n",
       "    .dataframe tbody tr th:only-of-type {\n",
       "        vertical-align: middle;\n",
       "    }\n",
       "\n",
       "    .dataframe tbody tr th {\n",
       "        vertical-align: top;\n",
       "    }\n",
       "\n",
       "    .dataframe thead th {\n",
       "        text-align: right;\n",
       "    }\n",
       "</style>\n",
       "<table border=\"1\" class=\"dataframe\">\n",
       "  <thead>\n",
       "    <tr style=\"text-align: right;\">\n",
       "      <th></th>\n",
       "      <th>city</th>\n",
       "      <th>date</th>\n",
       "      <th>fare</th>\n",
       "      <th>ride_id</th>\n",
       "      <th>driver_count</th>\n",
       "      <th>type</th>\n",
       "    </tr>\n",
       "  </thead>\n",
       "  <tbody>\n",
       "    <tr>\n",
       "      <th>0</th>\n",
       "      <td>Amandaburgh</td>\n",
       "      <td>2018-01-11 02:22:07</td>\n",
       "      <td>29.24</td>\n",
       "      <td>7279902884763</td>\n",
       "      <td>12</td>\n",
       "      <td>Urban</td>\n",
       "    </tr>\n",
       "    <tr>\n",
       "      <th>1</th>\n",
       "      <td>Amandaburgh</td>\n",
       "      <td>2018-03-05 02:15:38</td>\n",
       "      <td>26.28</td>\n",
       "      <td>906850928986</td>\n",
       "      <td>12</td>\n",
       "      <td>Urban</td>\n",
       "    </tr>\n",
       "    <tr>\n",
       "      <th>2</th>\n",
       "      <td>Amandaburgh</td>\n",
       "      <td>2018-02-24 23:10:49</td>\n",
       "      <td>43.66</td>\n",
       "      <td>6573820412437</td>\n",
       "      <td>12</td>\n",
       "      <td>Urban</td>\n",
       "    </tr>\n",
       "    <tr>\n",
       "      <th>3</th>\n",
       "      <td>Amandaburgh</td>\n",
       "      <td>2018-02-10 20:42:46</td>\n",
       "      <td>36.17</td>\n",
       "      <td>6455620849753</td>\n",
       "      <td>12</td>\n",
       "      <td>Urban</td>\n",
       "    </tr>\n",
       "    <tr>\n",
       "      <th>4</th>\n",
       "      <td>Amandaburgh</td>\n",
       "      <td>2018-01-21 04:12:54</td>\n",
       "      <td>9.26</td>\n",
       "      <td>5528427024492</td>\n",
       "      <td>12</td>\n",
       "      <td>Urban</td>\n",
       "    </tr>\n",
       "    <tr>\n",
       "      <th>5</th>\n",
       "      <td>Amandaburgh</td>\n",
       "      <td>2018-04-19 16:30:12</td>\n",
       "      <td>6.27</td>\n",
       "      <td>4400632718421</td>\n",
       "      <td>12</td>\n",
       "      <td>Urban</td>\n",
       "    </tr>\n",
       "    <tr>\n",
       "      <th>6</th>\n",
       "      <td>Amandaburgh</td>\n",
       "      <td>2018-03-20 07:40:33</td>\n",
       "      <td>27.45</td>\n",
       "      <td>3701008274871</td>\n",
       "      <td>12</td>\n",
       "      <td>Urban</td>\n",
       "    </tr>\n",
       "    <tr>\n",
       "      <th>7</th>\n",
       "      <td>Amandaburgh</td>\n",
       "      <td>2018-04-01 09:24:21</td>\n",
       "      <td>24.29</td>\n",
       "      <td>1995462170530</td>\n",
       "      <td>12</td>\n",
       "      <td>Urban</td>\n",
       "    </tr>\n",
       "    <tr>\n",
       "      <th>8</th>\n",
       "      <td>Amandaburgh</td>\n",
       "      <td>2018-04-20 02:16:07</td>\n",
       "      <td>16.27</td>\n",
       "      <td>3513123734716</td>\n",
       "      <td>12</td>\n",
       "      <td>Urban</td>\n",
       "    </tr>\n",
       "    <tr>\n",
       "      <th>9</th>\n",
       "      <td>Amandaburgh</td>\n",
       "      <td>2018-03-13 12:52:31</td>\n",
       "      <td>13.88</td>\n",
       "      <td>6222134922674</td>\n",
       "      <td>12</td>\n",
       "      <td>Urban</td>\n",
       "    </tr>\n",
       "  </tbody>\n",
       "</table>\n",
       "</div>"
      ],
      "text/plain": [
       "          city                 date   fare        ride_id  driver_count   type\n",
       "0  Amandaburgh  2018-01-11 02:22:07  29.24  7279902884763            12  Urban\n",
       "1  Amandaburgh  2018-03-05 02:15:38  26.28   906850928986            12  Urban\n",
       "2  Amandaburgh  2018-02-24 23:10:49  43.66  6573820412437            12  Urban\n",
       "3  Amandaburgh  2018-02-10 20:42:46  36.17  6455620849753            12  Urban\n",
       "4  Amandaburgh  2018-01-21 04:12:54   9.26  5528427024492            12  Urban\n",
       "5  Amandaburgh  2018-04-19 16:30:12   6.27  4400632718421            12  Urban\n",
       "6  Amandaburgh  2018-03-20 07:40:33  27.45  3701008274871            12  Urban\n",
       "7  Amandaburgh  2018-04-01 09:24:21  24.29  1995462170530            12  Urban\n",
       "8  Amandaburgh  2018-04-20 02:16:07  16.27  3513123734716            12  Urban\n",
       "9  Amandaburgh  2018-03-13 12:52:31  13.88  6222134922674            12  Urban"
      ]
     },
     "execution_count": 3,
     "metadata": {},
     "output_type": "execute_result"
    }
   ],
   "source": [
    "%matplotlib inline\n",
    "# Dependencies and Setup\n",
    "import matplotlib.pyplot as plt\n",
    "import pandas as pd\n",
    "import numpy as np\n",
    "\n",
    "# File to Load (Remember to change these)\n",
    "city_data_to_load = \"data/city_data.csv\"\n",
    "ride_data_to_load = \"data/ride_data.csv\"\n",
    "\n",
    "# Read the City and Ride Data\n",
    "city_data = pd.read_csv(city_data_to_load)\n",
    "ride_data = pd.read_csv(ride_data_to_load)\n",
    "\n",
    "# Combine the data into a single dataset\n",
    "combined_data = pd.merge(ride_data, city_data, on=\"city\") \\\n",
    "        .sort_values(by=\"city\") \\\n",
    "        .reset_index(drop=True)\n",
    "\n",
    "# Display the data table for preview\n",
    "combined_data.head(10)"
   ]
  },
  {
   "cell_type": "markdown",
   "metadata": {},
   "source": [
    "## Bubble Plot of Ride Sharing Data"
   ]
  },
  {
   "cell_type": "code",
   "execution_count": 87,
   "metadata": {},
   "outputs": [
    {
     "data": {
      "image/png": "[encoded data removed]",
      "text/plain": [
       "<Figure size 432x288 with 1 Axes>"
      ]
     },
     "metadata": {
      "needs_background": "light"
     },
     "output_type": "display_data"
    }
   ],
   "source": [
    "# Obtain the x and y coordinates for each of the three city types:\n",
    "\n",
    "x_urban = pd.DataFrame(combined_data.loc[combined_data[\"type\"] == \"Urban\"], columns=[\"city\", \"ride_id\"]) \\\n",
    "    .groupby(\"city\")[\"ride_id\"].count()\n",
    "x_suburban = pd.DataFrame(combined_data.loc[combined_data[\"type\"] == \"Suburban\"], columns=[\"city\", \"ride_id\"]) \\\n",
    "    .groupby(\"city\")[\"ride_id\"].count()\n",
    "x_rural = pd.DataFrame(combined_data.loc[combined_data[\"type\"] == \"Rural\"], columns=[\"city\", \"ride_id\"]) \\\n",
    "    .groupby(\"city\")[\"ride_id\"].count()\n",
    "\n",
    "y_urban = pd.DataFrame(combined_data.loc[combined_data[\"type\"] == \"Urban\"], columns=[\"city\", \"fare\"]) \\\n",
    "    .groupby(\"city\")[\"fare\"].mean()\n",
    "y_suburban = pd.DataFrame(combined_data.loc[combined_data[\"type\"] == \"Suburban\"], columns=[\"city\", \"fare\"]) \\\n",
    "    .groupby(\"city\")[\"fare\"].mean()\n",
    "y_rural = pd.DataFrame(combined_data.loc[combined_data[\"type\"] == \"Rural\"], columns=[\"city\", \"fare\"]) \\\n",
    "    .groupby(\"city\")[\"fare\"].mean()\n",
    "\n",
    "z_urban = pd.DataFrame(combined_data.loc[combined_data[\"type\"] == \"Urban\"], columns=[\"city\", \"driver_count\"]) \\\n",
    "    .groupby(\"city\")[\"driver_count\"].mean()\n",
    "z_suburban = pd.DataFrame(combined_data.loc[combined_data[\"type\"] == \"Suburban\"], columns=[\"city\", \"driver_count\"]) \\\n",
    "    .groupby(\"city\")[\"driver_count\"].mean()\n",
    "z_rural = pd.DataFrame(combined_data.loc[combined_data[\"type\"] == \"Rural\"], columns=[\"city\", \"driver_count\"]) \\\n",
    "    .groupby(\"city\")[\"driver_count\"].mean()\n",
    "\n",
    "# Build the scatter plots for each city types\n",
    "plt.scatter(x_urban, y_urban, s=z_urban*15, c=\"orange\", alpha=0.4, edgecolors=\"red\", linewidth=0.5)\n",
    "plt.scatter(x_suburban, y_suburban, s=z_suburban*15, c=\"blue\", alpha=0.4, edgecolors=\"blue\", linewidth=0.5)\n",
    "plt.scatter(x_rural, y_rural, s=z_rural*15, c=\"green\", alpha=0.4, edgecolors=\"green\", linewidth=0.5)\n",
    "\n",
    "# Incorporate the other graph properties\n",
    "plt.grid()\n",
    "\n",
    "# Create a legend\n",
    "plt.title(\"Pyber Ride Sharing Data (2016)\")\n",
    "plt.xlabel(\"Total Number of Riders (Per City)\")\n",
    "plt.ylabel(\"Average Fare ($)\")\n",
    "plt.legend([\"Urban\",\"Suburba\",\"Rural\"], shadow=True, fontsize=\"medium\", markerscale=0.55)\n",
    "\n",
    "\n",
    "# Incorporate a text label regarding circle size\n",
    "textstr = \"Note:\\nCircle size correlates\\nwith driver count\\nper city\"\n",
    "plt.text(43, 30, textstr, fontsize=12)\n",
    "# Save Figure\n",
    "plt.savefig(\"Pyber Ride Sharing Data (2016).png\")"
   ]
  },
  {
   "cell_type": "code",
   "execution_count": 46,
   "metadata": {},
   "outputs": [],
   "source": [
    "# Show plot\n",
    "plt.show()"
   ]
  },
  {
   "cell_type": "markdown",
   "metadata": {},
   "source": [
    "## Total Fares by City Type"
   ]
  },
  {
   "cell_type": "code",
   "execution_count": null,
   "metadata": {},
   "outputs": [],
   "source": [
    "# Calculate Type Percents\n",
    "\n",
    "# Build Pie Chart\n",
    "\n",
    "# Save Figure\n"
   ]
  },
  {
   "cell_type": "code",
   "execution_count": null,
   "metadata": {},
   "outputs": [],
   "source": [
    "# Show Figure\n",
    "plt.show()"
   ]
  },
  {
   "cell_type": "markdown",
   "metadata": {},
   "source": [
    "## Total Rides by City Type"
   ]
  },
  {
   "cell_type": "code",
   "execution_count": null,
   "metadata": {},
   "outputs": [],
   "source": [
    "# Calculate Ride Percents\n",
    "\n",
    "# Build Pie Chart\n",
    "\n",
    "# Save Figure\n"
   ]
  },
  {
   "cell_type": "code",
   "execution_count": null,
   "metadata": {},
   "outputs": [],
   "source": [
    "# Show Figure\n",
    "plt.show()"
   ]
  },
  {
   "cell_type": "markdown",
   "metadata": {},
   "source": [
    "## Total Drivers by City Type"
   ]
  },
  {
   "cell_type": "code",
   "execution_count": null,
   "metadata": {},
   "outputs": [],
   "source": [
    "# Calculate Driver Percents\n",
    "\n",
    "# Build Pie Charts\n",
    "\n",
    "# Save Figure\n"
   ]
  },
  {
   "cell_type": "code",
   "execution_count": null,
   "metadata": {
    "scrolled": true
   },
   "outputs": [],
   "source": [
    "# Show Figure\n",
    "plt.show()"
   ]
  },
  {
   "cell_type": "code",
   "execution_count": null,
   "metadata": {},
   "outputs": [],
   "source": []
  }
 ],
 "metadata": {
  "anaconda-cloud": {},
  "kernelspec": {
   "display_name": "Python 3",
   "language": "python",
   "name": "python3"
  },
  "language_info": {
   "codemirror_mode": {
    "name": "ipython",
    "version": 3
   },
   "file_extension": ".py",
   "mimetype": "text/x-python",
   "name": "python",
   "nbconvert_exporter": "python",
   "pygments_lexer": "ipython3",
   "version": "3.7.3"
  }
 },
 "nbformat": 4,
 "nbformat_minor": 2
}
